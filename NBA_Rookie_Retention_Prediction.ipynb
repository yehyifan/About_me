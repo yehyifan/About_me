{
  "nbformat": 4,
  "nbformat_minor": 0,
  "metadata": {
    "colab": {
      "provenance": [],
      "include_colab_link": true
    },
    "kernelspec": {
      "name": "python3",
      "display_name": "Python 3"
    },
    "language_info": {
      "name": "python"
    }
  },
  "cells": [
    {
      "cell_type": "markdown",
      "metadata": {
        "id": "view-in-github",
        "colab_type": "text"
      },
      "source": [
        "<a href=\"https://colab.research.google.com/github/yehyifan/About_me/blob/main/NBA_Rookie_Retention_Prediction.ipynb\" target=\"_parent\"><img src=\"https://colab.research.google.com/assets/colab-badge.svg\" alt=\"Open In Colab\"/></a>"
      ]
    },
    {
      "cell_type": "markdown",
      "source": [
        "# NBA Rookie Retention Prediction  \n",
        "Developed a predictive analysis pipeline using rookie season statistics to estimate NBA player retention after five years. Performed data cleaning, exploratory analysis, and feature selection using **SelectKBest** and **RFE** to uncover key performance indicators. Built classification models with **Logistic Regression** and evaluated them using **precision-recall analysis** and **threshold tuning**. Visualised feature importance and model results with **Plotly** for clear, interactive insights into early-career success factors.\n"
      ],
      "metadata": {
        "id": "k_lJO_NPfZYD"
      }
    },
    {
      "cell_type": "markdown",
      "source": [
        "## Module Import and Data Loading"
      ],
      "metadata": {
        "id": "N1oxWQ5oMt4q"
      }
    },
    {
      "cell_type": "code",
      "source": [
        "import numpy as np\n",
        "import string\n",
        "import pandas as pd\n",
        "import re\n",
        "import matplotlib.pyplot as plt\n",
        "import seaborn as sns\n",
        "import plotly.graph_objects as go\n",
        "import plotly.express as px\n",
        "import warnings\n",
        "warnings.simplefilter(action='ignore', category=FutureWarning)\n",
        "from tqdm import tqdm\n",
        "from urllib import request\n",
        "module_url = [f\"https://drive.google.com/uc?export=view&id=1DGhCMqrxRy_oRZDR7cy2OFDqjI_OHydR\"]\n",
        "name = ['nba.csv']\n",
        "for i in range(len(name)):\n",
        "    with request.urlopen(module_url[i]) as f, open(name[i],'w') as outf:\n",
        "        a = f.read()\n",
        "        outf.write(a.decode('ISO-8859-1'))"
      ],
      "metadata": {
        "id": "g5AnWsIkc5O6"
      },
      "execution_count": 1,
      "outputs": []
    },
    {
      "cell_type": "markdown",
      "source": [
        "## Regression Analysis & Visualisation"
      ],
      "metadata": {
        "id": "Z9O1MGDB1ENA"
      }
    },
    {
      "cell_type": "markdown",
      "source": [
        "### 1. Load Data"
      ],
      "metadata": {
        "id": "yTL6FuQhoNHz"
      }
    },
    {
      "cell_type": "code",
      "source": [
        "df = pd.read_csv('nba.csv')\n",
        "print(df.head())"
      ],
      "metadata": {
        "colab": {
          "base_uri": "https://localhost:8080/"
        },
        "id": "C4LwHdGljcvg",
        "outputId": "ad96747f-225f-4da0-a88f-29b0c959024d"
      },
      "execution_count": 2,
      "outputs": [
        {
          "output_type": "stream",
          "name": "stdout",
          "text": [
            "              name  games_played  minutes_played  points_scored  goals_scored  \\\n",
            "0   Brandon Ingram          36.0            27.4            7.4           2.6   \n",
            "1  Andrew Harrison          35.0            26.9            7.2           2.0   \n",
            "2   JaKarr Sampson          74.0            15.3            5.2           2.0   \n",
            "3      Malik Sealy          58.0            11.6            5.7           2.3   \n",
            "4      Matt Geiger          48.0            11.5            4.5           1.6   \n",
            "\n",
            "   goals_attempted  3_point_scored  3_point_attempted  free_throws_scored  \\\n",
            "0              7.6             0.5                2.1                 1.6   \n",
            "1              6.7             0.7                2.8                 2.6   \n",
            "2              4.7             0.4                1.7                 0.9   \n",
            "3              5.5             0.1                0.5                 0.9   \n",
            "4              3.0             0.0                0.1                 1.3   \n",
            "\n",
            "   free_throws_attempted  offensive_rebounds  defensive_rebounds  assists  \\\n",
            "0                    2.3                 0.7                 3.4      1.9   \n",
            "1                    3.4                 0.5                 2.0      3.7   \n",
            "2                    1.3                 0.5                 1.7      1.0   \n",
            "3                    1.3                 1.0                 0.9      0.8   \n",
            "4                    1.9                 1.0                 1.5      0.3   \n",
            "\n",
            "   steals  blocks  turnover  5yrs  \n",
            "0     0.4     0.4       1.3   0.0  \n",
            "1     1.1     0.5       1.6   0.0  \n",
            "2     0.5     0.3       1.0   0.0  \n",
            "3     0.6     0.1       1.0   1.0  \n",
            "4     0.3     0.4       0.8   1.0  \n"
          ]
        }
      ]
    },
    {
      "cell_type": "markdown",
      "source": [
        "### 2. Data Preprocessing"
      ],
      "metadata": {
        "id": "tgcAEugXoYzr"
      }
    },
    {
      "cell_type": "markdown",
      "source": [
        "2.1 Handle Missing Values"
      ],
      "metadata": {
        "id": "F6-VIbvXx03-"
      }
    },
    {
      "cell_type": "code",
      "source": [
        "from sklearn.preprocessing import StandardScaler\n",
        "from sklearn.impute import SimpleImputer\n",
        "from sklearn.feature_selection import SelectKBest, f_classif, RFE\n",
        "from sklearn.linear_model import LogisticRegression\n",
        "from sklearn.ensemble import RandomForestClassifier\n",
        "\n",
        "# Drop rows where target '5yrs' is missing\n",
        "df = df.dropna(subset=['5yrs']).copy()\n",
        "\n",
        "# Impute missing values in numeric features (excluding 'name' and '5yrs')\n",
        "numerical_cols = df.columns.drop(['name', '5yrs'])\n",
        "imputer = SimpleImputer(strategy='mean')\n",
        "df[numerical_cols] = imputer.fit_transform(df[numerical_cols])"
      ],
      "metadata": {
        "id": "SSfEcU-sCGAl"
      },
      "execution_count": 3,
      "outputs": []
    },
    {
      "cell_type": "markdown",
      "source": [
        "2.2 Standardise Numerical Features"
      ],
      "metadata": {
        "id": "DqC5Chl7x5MZ"
      }
    },
    {
      "cell_type": "code",
      "source": [
        "# Scale numeric features\n",
        "scaler = StandardScaler()\n",
        "df[numerical_cols] = scaler.fit_transform(df[numerical_cols])\n",
        "\n",
        "print(df.head())"
      ],
      "metadata": {
        "colab": {
          "base_uri": "https://localhost:8080/"
        },
        "id": "EWywpMutx6NB",
        "outputId": "3d08a7f4-88fe-4acd-8bd9-9a9b95f78f56"
      },
      "execution_count": 4,
      "outputs": [
        {
          "output_type": "stream",
          "name": "stdout",
          "text": [
            "              name  games_played  minutes_played  points_scored  goals_scored  \\\n",
            "0   Brandon Ingram     -1.519189        1.124828       0.081639     -0.069180   \n",
            "1  Andrew Harrison     -1.579021        1.065452       0.038162     -0.405243   \n",
            "2   JaKarr Sampson      0.754431       -0.312066      -0.396606     -0.405243   \n",
            "3      Malik Sealy     -0.202883       -0.751447      -0.287914     -0.237211   \n",
            "4      Matt Geiger     -0.801204       -0.763323      -0.548775     -0.629285   \n",
            "\n",
            "   goals_attempted  3_point_scored  3_point_attempted  free_throws_scored  \\\n",
            "0         0.367169        0.609371           1.233772            0.212367   \n",
            "1         0.131245        1.171516           1.941910            1.136649   \n",
            "2        -0.393030        0.328298           0.829122           -0.434631   \n",
            "3        -0.183320       -0.514919          -0.384828           -0.434631   \n",
            "4        -0.838664       -0.795992          -0.789479           -0.064918   \n",
            "\n",
            "   free_throws_attempted  offensive_rebounds  defensive_rebounds   assists  \\\n",
            "0               0.250465           -0.455685            0.947012  0.263601   \n",
            "1               0.999694           -0.731412           -0.103318  1.560247   \n",
            "2              -0.430651           -0.731412           -0.328389 -0.384722   \n",
            "3              -0.430651           -0.042094           -0.928578 -0.528794   \n",
            "4              -0.021981           -0.042094           -0.478436 -0.888973   \n",
            "\n",
            "     steals    blocks  turnover  5yrs  \n",
            "0 -0.583337  0.019610  0.195336   0.0  \n",
            "1  1.231308  0.251782  0.669724   0.0  \n",
            "2 -0.324102 -0.212562 -0.279052   0.0  \n",
            "3 -0.064867 -0.676906 -0.279052   1.0  \n",
            "4 -0.842572  0.019610 -0.595311   1.0  \n"
          ]
        }
      ]
    },
    {
      "cell_type": "markdown",
      "source": [
        "### 3. Feature Selection"
      ],
      "metadata": {
        "id": "s3PjJuOkRtCd"
      }
    },
    {
      "cell_type": "markdown",
      "source": [
        "3.1 SelectKBest and RFE"
      ],
      "metadata": {
        "id": "-2yDBF-FzRGZ"
      }
    },
    {
      "cell_type": "code",
      "source": [
        "# Split features and target\n",
        "X = df.drop(columns=['name', '5yrs'])\n",
        "y = df['5yrs'].astype(int)\n",
        "X_scaled = X.copy()\n",
        "features = X.columns\n",
        "\n",
        "# 1. SelectKBest (top 50% F-score)\n",
        "skb = SelectKBest(score_func=f_classif).fit(X_scaled, y)\n",
        "skb_scores = skb.scores_\n",
        "skb_top = set(features[np.argsort(skb_scores)[::-1][:len(features) // 2]])\n",
        "\n",
        "# 2. RFE (top 5)\n",
        "rfe = RFE(LogisticRegression(solver='liblinear', max_iter=200, random_state=42), n_features_to_select=5)\n",
        "rfe.fit(X_scaled, y)\n",
        "rfe_top = set(features[rfe.support_])\n",
        "\n",
        "# Final selected features\n",
        "best_features = sorted(skb_top & rfe_top)\n",
        "\n",
        "print(\"Best combination of features (SelectKBest & RFE):\")\n",
        "print(best_features)"
      ],
      "metadata": {
        "colab": {
          "base_uri": "https://localhost:8080/"
        },
        "id": "Uxpl7G7kCMcB",
        "outputId": "624a97b5-ab87-46db-9a31-a5b6cf7222c4"
      },
      "execution_count": 5,
      "outputs": [
        {
          "output_type": "stream",
          "name": "stdout",
          "text": [
            "Best combination of features (SelectKBest & RFE):\n",
            "['free_throws_attempted', 'games_played', 'goals_attempted', 'points_scored']\n"
          ]
        }
      ]
    },
    {
      "cell_type": "markdown",
      "source": [
        "3.2 Feature Selection Visulisation"
      ],
      "metadata": {
        "id": "6BYEpKy9R5F0"
      }
    },
    {
      "cell_type": "code",
      "source": [
        "# Normalize scores\n",
        "skb_scores_norm = skb_scores / np.max(skb_scores)\n",
        "rfe_selected = np.zeros(len(features))\n",
        "rfe_selected[rfe.support_] = 1\n",
        "\n",
        "# Build DataFrame\n",
        "bar_df = pd.DataFrame({\n",
        "    'Feature': features,\n",
        "    'SelectKBest': skb_scores_norm,\n",
        "    'RFE': rfe_selected,\n",
        "    'Selected_by_Both': [feat in best_features for feat in features]\n",
        "})\n",
        "\n",
        "# Calculate combined importance score\n",
        "bar_df['Combined'] = bar_df['SelectKBest'] + bar_df['RFE']\n",
        "bar_df = bar_df.sort_values(by='Combined', ascending=False).reset_index(drop=True)\n",
        "\n",
        "# Use Plotly pastel palette\n",
        "pastel_colors = px.colors.qualitative.Pastel\n",
        "\n",
        "fig = go.Figure()\n",
        "\n",
        "# SelectKBest bars\n",
        "fig.add_trace(go.Bar(\n",
        "    x=bar_df['Feature'],\n",
        "    y=bar_df['SelectKBest'],\n",
        "    name='SelectKBest',\n",
        "    marker_color=pastel_colors[0],\n",
        "    opacity=0.9,\n",
        "    text=bar_df['SelectKBest'].round(2),\n",
        "    customdata=np.stack([bar_df['Feature'], bar_df['Selected_by_Both']], axis=-1),\n",
        "    hovertemplate=\"Feature: %{customdata[0]}<br>\" +\n",
        "                  \"Method: SelectKBest<br>\" +\n",
        "                  \"F-score: %{y:.2f}<br>\" +\n",
        "                  \"Selected by Both: %{customdata[1]}<extra></extra>\",\n",
        "    showlegend=True\n",
        "))\n",
        "\n",
        "# RFE bars\n",
        "fig.add_trace(go.Bar(\n",
        "    x=bar_df['Feature'],\n",
        "    y=bar_df['RFE'],\n",
        "    name='RFE',\n",
        "    marker_color=pastel_colors[1],\n",
        "    opacity=0.9,\n",
        "    text=bar_df['RFE'],\n",
        "    customdata=np.stack([bar_df['Feature'], bar_df['Selected_by_Both']], axis=-1),\n",
        "    hovertemplate=\"Feature: %{customdata[0]}<br>\" +\n",
        "                  \"Method: RFE<br>\" +\n",
        "                  \"Selected (1=Yes, 0=No): %{y}<br>\" +\n",
        "                  \"Selected by Both: %{customdata[1]}<extra></extra>\",\n",
        "    showlegend=True\n",
        "))\n",
        "\n",
        "# Star annotations\n",
        "for i, feat in enumerate(bar_df['Feature']):\n",
        "    if bar_df.loc[i, 'Selected_by_Both']:\n",
        "        y_val = max(bar_df.loc[i, 'SelectKBest'], bar_df.loc[i, 'RFE'])\n",
        "        fig.add_annotation(\n",
        "            text=\"★\",\n",
        "            x=feat,\n",
        "            y=y_val + 0.05,\n",
        "            showarrow=False,\n",
        "            font=dict(color=\"#9370DB\", size=16)\n",
        "        )\n",
        "\n",
        "# Dummy trace for legend\n",
        "fig.add_trace(go.Scatter(\n",
        "    x=[None],\n",
        "    y=[None],\n",
        "    mode='markers',\n",
        "    name='Selected by Both',\n",
        "    marker=dict(symbol='star', size=10, color='#9370DB'),\n",
        "    showlegend=True\n",
        "))\n",
        "\n",
        "# Layout\n",
        "fig.update_layout(\n",
        "    template='plotly_white',\n",
        "    title=\"Feature Selection Comparison: SelectKBest vs RFE\",\n",
        "    title_font=dict(size=18, color='#333'),\n",
        "    font=dict(family=\"Arial\", size=14, color='#4F4F4F'),\n",
        "    xaxis=dict(\n",
        "        title=\"Features\",\n",
        "        titlefont=dict(size=16, color='#4F4F4F'),\n",
        "        tickfont=dict(size=14, color='#666'),\n",
        "        tickangle=45\n",
        "    ),\n",
        "    yaxis=dict(\n",
        "        title=\"Score / Selection\",\n",
        "        titlefont=dict(size=16, color='#4F4F4F'),\n",
        "        tickfont=dict(size=14, color='#666'),\n",
        "        showgrid=False\n",
        "    ),\n",
        "    barmode='group',\n",
        "    width=1000,\n",
        "    height=500,\n",
        "    margin=dict(t=60, b=60)\n",
        ")\n",
        "\n",
        "fig.show()"
      ],
      "metadata": {
        "colab": {
          "base_uri": "https://localhost:8080/",
          "height": 517
        },
        "id": "VsxHCXsJCR5S",
        "outputId": "1b84f98c-3624-4726-8bb7-de118baecaf2"
      },
      "execution_count": 6,
      "outputs": [
        {
          "output_type": "display_data",
          "data": {
            "text/html": [
              "<html>\n",
              "<head><meta charset=\"utf-8\" /></head>\n",
              "<body>\n",
              "    <div>            <script src=\"https://cdnjs.cloudflare.com/ajax/libs/mathjax/2.7.5/MathJax.js?config=TeX-AMS-MML_SVG\"></script><script type=\"text/javascript\">if (window.MathJax && window.MathJax.Hub && window.MathJax.Hub.Config) {window.MathJax.Hub.Config({SVG: {font: \"STIX-Web\"}});}</script>                <script type=\"text/javascript\">window.PlotlyConfig = {MathJaxConfig: 'local'};</script>\n",
              "        <script charset=\"utf-8\" src=\"https://cdn.plot.ly/plotly-2.35.2.min.js\"></script>                <div id=\"63bbe653-3bfd-4f36-8bbc-f6b54e419728\" class=\"plotly-graph-div\" style=\"height:500px; width:1000px;\"></div>            <script type=\"text/javascript\">                                    window.PLOTLYENV=window.PLOTLYENV || {};                                    if (document.getElementById(\"63bbe653-3bfd-4f36-8bbc-f6b54e419728\")) {                    Plotly.newPlot(                        \"63bbe653-3bfd-4f36-8bbc-f6b54e419728\",                        [{\"customdata\":[[\"games_played\",true],[\"points_scored\",true],[\"goals_attempted\",true],[\"free_throws_attempted\",true],[\"3_point_attempted\",false],[\"minutes_played\",false],[\"goals_scored\",false],[\"free_throws_scored\",false],[\"defensive_rebounds\",false],[\"offensive_rebounds\",false],[\"turnover\",false],[\"steals\",false],[\"blocks\",false],[\"assists\",false],[\"3_point_scored\",false]],\"hovertemplate\":\"Feature: %{customdata[0]}\\u003cbr\\u003eMethod: SelectKBest\\u003cbr\\u003eF-score: %{y:.2f}\\u003cbr\\u003eSelected by Both: %{customdata[1]}\\u003cextra\\u003e\\u003c\\u002fextra\\u003e\",\"marker\":{\"color\":\"rgb(102, 197, 204)\"},\"name\":\"SelectKBest\",\"opacity\":0.9,\"showlegend\":true,\"text\":[1.0,0.82,0.65,0.6,0.01,0.83,0.81,0.61,0.51,0.49,0.43,0.32,0.27,0.25,0.02],\"x\":[\"games_played\",\"points_scored\",\"goals_attempted\",\"free_throws_attempted\",\"3_point_attempted\",\"minutes_played\",\"goals_scored\",\"free_throws_scored\",\"defensive_rebounds\",\"offensive_rebounds\",\"turnover\",\"steals\",\"blocks\",\"assists\",\"3_point_scored\"],\"y\":[1.0,0.816898964650127,0.6452952816277925,0.5968384358859393,0.013598119460839843,0.8316148797431319,0.8072428641903213,0.610149960367584,0.5131172264031562,0.49362488129360244,0.4277207725237822,0.3186194245450151,0.26682991972440495,0.25107042279085134,0.02252975898047749],\"type\":\"bar\"},{\"customdata\":[[\"games_played\",true],[\"points_scored\",true],[\"goals_attempted\",true],[\"free_throws_attempted\",true],[\"3_point_attempted\",false],[\"minutes_played\",false],[\"goals_scored\",false],[\"free_throws_scored\",false],[\"defensive_rebounds\",false],[\"offensive_rebounds\",false],[\"turnover\",false],[\"steals\",false],[\"blocks\",false],[\"assists\",false],[\"3_point_scored\",false]],\"hovertemplate\":\"Feature: %{customdata[0]}\\u003cbr\\u003eMethod: RFE\\u003cbr\\u003eSelected (1=Yes, 0=No): %{y}\\u003cbr\\u003eSelected by Both: %{customdata[1]}\\u003cextra\\u003e\\u003c\\u002fextra\\u003e\",\"marker\":{\"color\":\"rgb(246, 207, 113)\"},\"name\":\"RFE\",\"opacity\":0.9,\"showlegend\":true,\"text\":[1.0,1.0,1.0,1.0,1.0,0.0,0.0,0.0,0.0,0.0,0.0,0.0,0.0,0.0,0.0],\"x\":[\"games_played\",\"points_scored\",\"goals_attempted\",\"free_throws_attempted\",\"3_point_attempted\",\"minutes_played\",\"goals_scored\",\"free_throws_scored\",\"defensive_rebounds\",\"offensive_rebounds\",\"turnover\",\"steals\",\"blocks\",\"assists\",\"3_point_scored\"],\"y\":[1.0,1.0,1.0,1.0,1.0,0.0,0.0,0.0,0.0,0.0,0.0,0.0,0.0,0.0,0.0],\"type\":\"bar\"},{\"marker\":{\"color\":\"#9370DB\",\"size\":10,\"symbol\":\"star\"},\"mode\":\"markers\",\"name\":\"Selected by Both\",\"showlegend\":true,\"x\":[null],\"y\":[null],\"type\":\"scatter\"}],                        {\"template\":{\"data\":{\"barpolar\":[{\"marker\":{\"line\":{\"color\":\"white\",\"width\":0.5},\"pattern\":{\"fillmode\":\"overlay\",\"size\":10,\"solidity\":0.2}},\"type\":\"barpolar\"}],\"bar\":[{\"error_x\":{\"color\":\"#2a3f5f\"},\"error_y\":{\"color\":\"#2a3f5f\"},\"marker\":{\"line\":{\"color\":\"white\",\"width\":0.5},\"pattern\":{\"fillmode\":\"overlay\",\"size\":10,\"solidity\":0.2}},\"type\":\"bar\"}],\"carpet\":[{\"aaxis\":{\"endlinecolor\":\"#2a3f5f\",\"gridcolor\":\"#C8D4E3\",\"linecolor\":\"#C8D4E3\",\"minorgridcolor\":\"#C8D4E3\",\"startlinecolor\":\"#2a3f5f\"},\"baxis\":{\"endlinecolor\":\"#2a3f5f\",\"gridcolor\":\"#C8D4E3\",\"linecolor\":\"#C8D4E3\",\"minorgridcolor\":\"#C8D4E3\",\"startlinecolor\":\"#2a3f5f\"},\"type\":\"carpet\"}],\"choropleth\":[{\"colorbar\":{\"outlinewidth\":0,\"ticks\":\"\"},\"type\":\"choropleth\"}],\"contourcarpet\":[{\"colorbar\":{\"outlinewidth\":0,\"ticks\":\"\"},\"type\":\"contourcarpet\"}],\"contour\":[{\"colorbar\":{\"outlinewidth\":0,\"ticks\":\"\"},\"colorscale\":[[0.0,\"#0d0887\"],[0.1111111111111111,\"#46039f\"],[0.2222222222222222,\"#7201a8\"],[0.3333333333333333,\"#9c179e\"],[0.4444444444444444,\"#bd3786\"],[0.5555555555555556,\"#d8576b\"],[0.6666666666666666,\"#ed7953\"],[0.7777777777777778,\"#fb9f3a\"],[0.8888888888888888,\"#fdca26\"],[1.0,\"#f0f921\"]],\"type\":\"contour\"}],\"heatmapgl\":[{\"colorbar\":{\"outlinewidth\":0,\"ticks\":\"\"},\"colorscale\":[[0.0,\"#0d0887\"],[0.1111111111111111,\"#46039f\"],[0.2222222222222222,\"#7201a8\"],[0.3333333333333333,\"#9c179e\"],[0.4444444444444444,\"#bd3786\"],[0.5555555555555556,\"#d8576b\"],[0.6666666666666666,\"#ed7953\"],[0.7777777777777778,\"#fb9f3a\"],[0.8888888888888888,\"#fdca26\"],[1.0,\"#f0f921\"]],\"type\":\"heatmapgl\"}],\"heatmap\":[{\"colorbar\":{\"outlinewidth\":0,\"ticks\":\"\"},\"colorscale\":[[0.0,\"#0d0887\"],[0.1111111111111111,\"#46039f\"],[0.2222222222222222,\"#7201a8\"],[0.3333333333333333,\"#9c179e\"],[0.4444444444444444,\"#bd3786\"],[0.5555555555555556,\"#d8576b\"],[0.6666666666666666,\"#ed7953\"],[0.7777777777777778,\"#fb9f3a\"],[0.8888888888888888,\"#fdca26\"],[1.0,\"#f0f921\"]],\"type\":\"heatmap\"}],\"histogram2dcontour\":[{\"colorbar\":{\"outlinewidth\":0,\"ticks\":\"\"},\"colorscale\":[[0.0,\"#0d0887\"],[0.1111111111111111,\"#46039f\"],[0.2222222222222222,\"#7201a8\"],[0.3333333333333333,\"#9c179e\"],[0.4444444444444444,\"#bd3786\"],[0.5555555555555556,\"#d8576b\"],[0.6666666666666666,\"#ed7953\"],[0.7777777777777778,\"#fb9f3a\"],[0.8888888888888888,\"#fdca26\"],[1.0,\"#f0f921\"]],\"type\":\"histogram2dcontour\"}],\"histogram2d\":[{\"colorbar\":{\"outlinewidth\":0,\"ticks\":\"\"},\"colorscale\":[[0.0,\"#0d0887\"],[0.1111111111111111,\"#46039f\"],[0.2222222222222222,\"#7201a8\"],[0.3333333333333333,\"#9c179e\"],[0.4444444444444444,\"#bd3786\"],[0.5555555555555556,\"#d8576b\"],[0.6666666666666666,\"#ed7953\"],[0.7777777777777778,\"#fb9f3a\"],[0.8888888888888888,\"#fdca26\"],[1.0,\"#f0f921\"]],\"type\":\"histogram2d\"}],\"histogram\":[{\"marker\":{\"pattern\":{\"fillmode\":\"overlay\",\"size\":10,\"solidity\":0.2}},\"type\":\"histogram\"}],\"mesh3d\":[{\"colorbar\":{\"outlinewidth\":0,\"ticks\":\"\"},\"type\":\"mesh3d\"}],\"parcoords\":[{\"line\":{\"colorbar\":{\"outlinewidth\":0,\"ticks\":\"\"}},\"type\":\"parcoords\"}],\"pie\":[{\"automargin\":true,\"type\":\"pie\"}],\"scatter3d\":[{\"line\":{\"colorbar\":{\"outlinewidth\":0,\"ticks\":\"\"}},\"marker\":{\"colorbar\":{\"outlinewidth\":0,\"ticks\":\"\"}},\"type\":\"scatter3d\"}],\"scattercarpet\":[{\"marker\":{\"colorbar\":{\"outlinewidth\":0,\"ticks\":\"\"}},\"type\":\"scattercarpet\"}],\"scattergeo\":[{\"marker\":{\"colorbar\":{\"outlinewidth\":0,\"ticks\":\"\"}},\"type\":\"scattergeo\"}],\"scattergl\":[{\"marker\":{\"colorbar\":{\"outlinewidth\":0,\"ticks\":\"\"}},\"type\":\"scattergl\"}],\"scattermapbox\":[{\"marker\":{\"colorbar\":{\"outlinewidth\":0,\"ticks\":\"\"}},\"type\":\"scattermapbox\"}],\"scatterpolargl\":[{\"marker\":{\"colorbar\":{\"outlinewidth\":0,\"ticks\":\"\"}},\"type\":\"scatterpolargl\"}],\"scatterpolar\":[{\"marker\":{\"colorbar\":{\"outlinewidth\":0,\"ticks\":\"\"}},\"type\":\"scatterpolar\"}],\"scatter\":[{\"fillpattern\":{\"fillmode\":\"overlay\",\"size\":10,\"solidity\":0.2},\"type\":\"scatter\"}],\"scatterternary\":[{\"marker\":{\"colorbar\":{\"outlinewidth\":0,\"ticks\":\"\"}},\"type\":\"scatterternary\"}],\"surface\":[{\"colorbar\":{\"outlinewidth\":0,\"ticks\":\"\"},\"colorscale\":[[0.0,\"#0d0887\"],[0.1111111111111111,\"#46039f\"],[0.2222222222222222,\"#7201a8\"],[0.3333333333333333,\"#9c179e\"],[0.4444444444444444,\"#bd3786\"],[0.5555555555555556,\"#d8576b\"],[0.6666666666666666,\"#ed7953\"],[0.7777777777777778,\"#fb9f3a\"],[0.8888888888888888,\"#fdca26\"],[1.0,\"#f0f921\"]],\"type\":\"surface\"}],\"table\":[{\"cells\":{\"fill\":{\"color\":\"#EBF0F8\"},\"line\":{\"color\":\"white\"}},\"header\":{\"fill\":{\"color\":\"#C8D4E3\"},\"line\":{\"color\":\"white\"}},\"type\":\"table\"}]},\"layout\":{\"annotationdefaults\":{\"arrowcolor\":\"#2a3f5f\",\"arrowhead\":0,\"arrowwidth\":1},\"autotypenumbers\":\"strict\",\"coloraxis\":{\"colorbar\":{\"outlinewidth\":0,\"ticks\":\"\"}},\"colorscale\":{\"diverging\":[[0,\"#8e0152\"],[0.1,\"#c51b7d\"],[0.2,\"#de77ae\"],[0.3,\"#f1b6da\"],[0.4,\"#fde0ef\"],[0.5,\"#f7f7f7\"],[0.6,\"#e6f5d0\"],[0.7,\"#b8e186\"],[0.8,\"#7fbc41\"],[0.9,\"#4d9221\"],[1,\"#276419\"]],\"sequential\":[[0.0,\"#0d0887\"],[0.1111111111111111,\"#46039f\"],[0.2222222222222222,\"#7201a8\"],[0.3333333333333333,\"#9c179e\"],[0.4444444444444444,\"#bd3786\"],[0.5555555555555556,\"#d8576b\"],[0.6666666666666666,\"#ed7953\"],[0.7777777777777778,\"#fb9f3a\"],[0.8888888888888888,\"#fdca26\"],[1.0,\"#f0f921\"]],\"sequentialminus\":[[0.0,\"#0d0887\"],[0.1111111111111111,\"#46039f\"],[0.2222222222222222,\"#7201a8\"],[0.3333333333333333,\"#9c179e\"],[0.4444444444444444,\"#bd3786\"],[0.5555555555555556,\"#d8576b\"],[0.6666666666666666,\"#ed7953\"],[0.7777777777777778,\"#fb9f3a\"],[0.8888888888888888,\"#fdca26\"],[1.0,\"#f0f921\"]]},\"colorway\":[\"#636efa\",\"#EF553B\",\"#00cc96\",\"#ab63fa\",\"#FFA15A\",\"#19d3f3\",\"#FF6692\",\"#B6E880\",\"#FF97FF\",\"#FECB52\"],\"font\":{\"color\":\"#2a3f5f\"},\"geo\":{\"bgcolor\":\"white\",\"lakecolor\":\"white\",\"landcolor\":\"white\",\"showlakes\":true,\"showland\":true,\"subunitcolor\":\"#C8D4E3\"},\"hoverlabel\":{\"align\":\"left\"},\"hovermode\":\"closest\",\"mapbox\":{\"style\":\"light\"},\"paper_bgcolor\":\"white\",\"plot_bgcolor\":\"white\",\"polar\":{\"angularaxis\":{\"gridcolor\":\"#EBF0F8\",\"linecolor\":\"#EBF0F8\",\"ticks\":\"\"},\"bgcolor\":\"white\",\"radialaxis\":{\"gridcolor\":\"#EBF0F8\",\"linecolor\":\"#EBF0F8\",\"ticks\":\"\"}},\"scene\":{\"xaxis\":{\"backgroundcolor\":\"white\",\"gridcolor\":\"#DFE8F3\",\"gridwidth\":2,\"linecolor\":\"#EBF0F8\",\"showbackground\":true,\"ticks\":\"\",\"zerolinecolor\":\"#EBF0F8\"},\"yaxis\":{\"backgroundcolor\":\"white\",\"gridcolor\":\"#DFE8F3\",\"gridwidth\":2,\"linecolor\":\"#EBF0F8\",\"showbackground\":true,\"ticks\":\"\",\"zerolinecolor\":\"#EBF0F8\"},\"zaxis\":{\"backgroundcolor\":\"white\",\"gridcolor\":\"#DFE8F3\",\"gridwidth\":2,\"linecolor\":\"#EBF0F8\",\"showbackground\":true,\"ticks\":\"\",\"zerolinecolor\":\"#EBF0F8\"}},\"shapedefaults\":{\"line\":{\"color\":\"#2a3f5f\"}},\"ternary\":{\"aaxis\":{\"gridcolor\":\"#DFE8F3\",\"linecolor\":\"#A2B1C6\",\"ticks\":\"\"},\"baxis\":{\"gridcolor\":\"#DFE8F3\",\"linecolor\":\"#A2B1C6\",\"ticks\":\"\"},\"bgcolor\":\"white\",\"caxis\":{\"gridcolor\":\"#DFE8F3\",\"linecolor\":\"#A2B1C6\",\"ticks\":\"\"}},\"title\":{\"x\":0.05},\"xaxis\":{\"automargin\":true,\"gridcolor\":\"#EBF0F8\",\"linecolor\":\"#EBF0F8\",\"ticks\":\"\",\"title\":{\"standoff\":15},\"zerolinecolor\":\"#EBF0F8\",\"zerolinewidth\":2},\"yaxis\":{\"automargin\":true,\"gridcolor\":\"#EBF0F8\",\"linecolor\":\"#EBF0F8\",\"ticks\":\"\",\"title\":{\"standoff\":15},\"zerolinecolor\":\"#EBF0F8\",\"zerolinewidth\":2}}},\"annotations\":[{\"font\":{\"color\":\"#9370DB\",\"size\":16},\"showarrow\":false,\"text\":\"★\",\"x\":\"games_played\",\"y\":1.05},{\"font\":{\"color\":\"#9370DB\",\"size\":16},\"showarrow\":false,\"text\":\"★\",\"x\":\"points_scored\",\"y\":1.05},{\"font\":{\"color\":\"#9370DB\",\"size\":16},\"showarrow\":false,\"text\":\"★\",\"x\":\"goals_attempted\",\"y\":1.05},{\"font\":{\"color\":\"#9370DB\",\"size\":16},\"showarrow\":false,\"text\":\"★\",\"x\":\"free_throws_attempted\",\"y\":1.05}],\"title\":{\"text\":\"Feature Selection Comparison: SelectKBest vs RFE\",\"font\":{\"size\":18,\"color\":\"#333\"}},\"font\":{\"family\":\"Arial\",\"size\":14,\"color\":\"#4F4F4F\"},\"xaxis\":{\"title\":{\"text\":\"Features\",\"font\":{\"size\":16,\"color\":\"#4F4F4F\"}},\"tickfont\":{\"size\":14,\"color\":\"#666\"},\"tickangle\":45},\"yaxis\":{\"title\":{\"text\":\"Score \\u002f Selection\",\"font\":{\"size\":16,\"color\":\"#4F4F4F\"}},\"tickfont\":{\"size\":14,\"color\":\"#666\"},\"showgrid\":false},\"margin\":{\"t\":60,\"b\":60},\"barmode\":\"group\",\"width\":1000,\"height\":500},                        {\"responsive\": true}                    ).then(function(){\n",
              "                            \n",
              "var gd = document.getElementById('63bbe653-3bfd-4f36-8bbc-f6b54e419728');\n",
              "var x = new MutationObserver(function (mutations, observer) {{\n",
              "        var display = window.getComputedStyle(gd).display;\n",
              "        if (!display || display === 'none') {{\n",
              "            console.log([gd, 'removed!']);\n",
              "            Plotly.purge(gd);\n",
              "            observer.disconnect();\n",
              "        }}\n",
              "}});\n",
              "\n",
              "// Listen for the removal of the full notebook cells\n",
              "var notebookContainer = gd.closest('#notebook-container');\n",
              "if (notebookContainer) {{\n",
              "    x.observe(notebookContainer, {childList: true});\n",
              "}}\n",
              "\n",
              "// Listen for the clearing of the current output cell\n",
              "var outputEl = gd.closest('.output');\n",
              "if (outputEl) {{\n",
              "    x.observe(outputEl, {childList: true});\n",
              "}}\n",
              "\n",
              "                        })                };                            </script>        </div>\n",
              "</body>\n",
              "</html>"
            ]
          },
          "metadata": {}
        }
      ]
    },
    {
      "cell_type": "markdown",
      "source": [
        "### 3. Prediction"
      ],
      "metadata": {
        "id": "DoMmGd7sSAY6"
      }
    },
    {
      "cell_type": "markdown",
      "source": [
        "3.1 My Model"
      ],
      "metadata": {
        "id": "m0xIs3iftX6m"
      }
    },
    {
      "cell_type": "code",
      "source": [
        "from sklearn.model_selection import train_test_split\n",
        "from sklearn.linear_model import LogisticRegression\n",
        "from sklearn.metrics import classification_report\n",
        "\n",
        "# -- My Model --\n",
        "# Prepare data\n",
        "X_selected = df[best_features]\n",
        "y = df['5yrs'].astype(int)\n",
        "\n",
        "# Train-test split\n",
        "X_train, X_test, y_train, y_test = train_test_split(X_selected, y, test_size=0.2, random_state=42)\n",
        "\n",
        "# Fit logistic regression model\n",
        "regressor = LogisticRegression(solver='liblinear', max_iter=200, random_state=42)\n",
        "regressor.fit(X_train, y_train)\n",
        "\n",
        "# Predict probabilities and classes\n",
        "y_pred = regressor.predict(X_test)\n",
        "y_prob = regressor.predict_proba(X_test)[:, 1]\n",
        "\n",
        "# Evaluate\n",
        "print(\"Classification Report (Logistic Regression with Selected Features):\")\n",
        "print(classification_report(y_test, y_pred))"
      ],
      "metadata": {
        "colab": {
          "base_uri": "https://localhost:8080/"
        },
        "id": "mMwpzzSnIGM9",
        "outputId": "01316fee-a652-4028-c62c-9789592415f8"
      },
      "execution_count": 7,
      "outputs": [
        {
          "output_type": "stream",
          "name": "stdout",
          "text": [
            "Classification Report (Logistic Regression with Selected Features):\n",
            "              precision    recall  f1-score   support\n",
            "\n",
            "           0       0.64      0.53      0.58       216\n",
            "           1       0.71      0.80      0.75       319\n",
            "\n",
            "    accuracy                           0.69       535\n",
            "   macro avg       0.68      0.66      0.66       535\n",
            "weighted avg       0.68      0.69      0.68       535\n",
            "\n"
          ]
        }
      ]
    },
    {
      "cell_type": "markdown",
      "source": [
        "3.2 Comparison Models"
      ],
      "metadata": {
        "id": "cQHDzKk9tbAa"
      }
    },
    {
      "cell_type": "code",
      "source": [
        "from sklearn.linear_model import LinearRegression\n",
        "from sklearn.ensemble import RandomForestRegressor\n",
        "from sklearn.metrics import classification_report\n",
        "\n",
        "# -- Model 1 --\n",
        "# Define features and target\n",
        "X1 = df[['games_played']]\n",
        "y1 = df['5yrs'].astype(int)\n",
        "\n",
        "# Train-test split\n",
        "X1_train, X1_test, y1_train, y1_test = train_test_split(X1, y1, test_size=0.2, random_state=42)\n",
        "\n",
        "# Fit linear regression\n",
        "regressor1 = LinearRegression()\n",
        "regressor1.fit(X1_train, y1_train)\n",
        "\n",
        "# Predict probabilities and apply threshold\n",
        "y1_prob = regressor1.predict(X1_test)\n",
        "y1_pred = (y1_prob >= 0.5).astype(int)\n",
        "\n",
        "# Evaluate\n",
        "print(\"Model 1: Linear Regression with 'games_played'\")\n",
        "print(classification_report(y1_test, y1_pred))\n",
        "\n",
        "\n",
        "# -- Model 2 --\n",
        "# Define features and target\n",
        "X2 = df.drop(columns=['name', '5yrs'])\n",
        "y2 = df['5yrs'].astype(int)\n",
        "\n",
        "# Train-test split\n",
        "X2_train, X2_test, y2_train, y2_test = train_test_split(X2, y2, test_size=0.2, random_state=42)\n",
        "\n",
        "# Fit logistic regression\n",
        "regressor2 = LogisticRegression()\n",
        "regressor2.fit(X2_train, y2_train)\n",
        "\n",
        "# Predict probabilities and apply threshold\n",
        "y2_prob = regressor2.predict_proba(X2_test)[:, 1]\n",
        "y2_pred = (y2_prob >= 0.5).astype(int)\n",
        "\n",
        "# Evaluate\n",
        "print(\"Model 2: Logistic Regression with All Features\")\n",
        "print(classification_report(y2_test, y2_pred))\n",
        "\n",
        "\n",
        "# -- Model 3 --\n",
        "# Define features and target\n",
        "X3 = df[best_features]\n",
        "y3 = df['5yrs'].astype(int)\n",
        "\n",
        "# Train-test split\n",
        "X3_train, X3_test, y3_train, y3_test = train_test_split(X3, y3, test_size=0.2, random_state=42)\n",
        "\n",
        "# Fit Random Forest Regressor\n",
        "regressor3 = RandomForestRegressor(n_estimators=100, random_state=42)\n",
        "regressor3.fit(X3_train, y3_train)\n",
        "\n",
        "# Predict probabilities and apply threshold\n",
        "y3_prob = regressor3.predict(X3_test)\n",
        "y3_pred = (y3_prob >= 0.5).astype(int)\n",
        "\n",
        "# Evaluate\n",
        "print(\"Model 3: Random Forest Regression with Selected Features\")\n",
        "print(classification_report(y3_test, y3_pred))"
      ],
      "metadata": {
        "colab": {
          "base_uri": "https://localhost:8080/"
        },
        "id": "hK4DQFjtLE0z",
        "outputId": "0d529322-4196-4d10-8ff4-976420c04367"
      },
      "execution_count": 8,
      "outputs": [
        {
          "output_type": "stream",
          "name": "stdout",
          "text": [
            "Model 1: Linear Regression with 'games_played'\n",
            "              precision    recall  f1-score   support\n",
            "\n",
            "           0       0.58      0.43      0.49       216\n",
            "           1       0.67      0.79      0.72       319\n",
            "\n",
            "    accuracy                           0.64       535\n",
            "   macro avg       0.62      0.61      0.61       535\n",
            "weighted avg       0.63      0.64      0.63       535\n",
            "\n",
            "Model 2: Logistic Regression with All Features\n",
            "              precision    recall  f1-score   support\n",
            "\n",
            "           0       0.66      0.56      0.60       216\n",
            "           1       0.73      0.80      0.76       319\n",
            "\n",
            "    accuracy                           0.70       535\n",
            "   macro avg       0.69      0.68      0.68       535\n",
            "weighted avg       0.70      0.70      0.70       535\n",
            "\n",
            "Model 3: Random Forest Regression with Selected Features\n",
            "              precision    recall  f1-score   support\n",
            "\n",
            "           0       0.56      0.56      0.56       216\n",
            "           1       0.70      0.70      0.70       319\n",
            "\n",
            "    accuracy                           0.64       535\n",
            "   macro avg       0.63      0.63      0.63       535\n",
            "weighted avg       0.64      0.64      0.64       535\n",
            "\n"
          ]
        }
      ]
    },
    {
      "cell_type": "markdown",
      "source": [
        "### 4. Precision-Recall Curve Analysis"
      ],
      "metadata": {
        "id": "Valf65ICyY9H"
      }
    },
    {
      "cell_type": "markdown",
      "source": [
        "4.1 Define _PR() Function"
      ],
      "metadata": {
        "id": "qkgq7krN03X3"
      }
    },
    {
      "cell_type": "code",
      "source": [
        "def _PR(y_true, y_pred):\n",
        "    \"\"\"\n",
        "    Manually calculates precision and recall from binary predictions.\n",
        "\n",
        "    Args:\n",
        "        y_true: Ground truth labels (0 or 1)\n",
        "        y_pred: Predicted labels (0 or 1)\n",
        "\n",
        "    Returns:\n",
        "        precision, recall\n",
        "    \"\"\"\n",
        "    TP = sum((y_true == 1) & (y_pred == 1))\n",
        "    FP = sum((y_true == 0) & (y_pred == 1))\n",
        "    FN = sum((y_true == 1) & (y_pred == 0))\n",
        "\n",
        "    precision = TP / (TP + FP) if (TP + FP) > 0 else 0\n",
        "    recall    = TP / (TP + FN) if (TP + FN) > 0 else 0\n",
        "\n",
        "    return precision, recall"
      ],
      "metadata": {
        "id": "iXuFhd47T_Hb"
      },
      "execution_count": 9,
      "outputs": []
    },
    {
      "cell_type": "markdown",
      "source": [
        "4.2 Identify Optimal Thresholds"
      ],
      "metadata": {
        "id": "DKqBe4MA06pR"
      }
    },
    {
      "cell_type": "code",
      "source": [
        "# Calculate precision and recall at different thresholds\n",
        "def calculate_pr_curve(y_true, y_scores, threshold_count=100):\n",
        "    \"\"\"\n",
        "    Calculates precision and recall values across a range of thresholds\n",
        "    for plotting a Precision-Recall (PR) curve.\n",
        "\n",
        "    Args:\n",
        "        y_true: Binary ground truth labels (0 or 1).\n",
        "        y_scores: Continuous model output scores.\n",
        "        threshold_count: Number of thresholds to test between the min and max of y_scores.\n",
        "\n",
        "    Returns:\n",
        "        tuple:\n",
        "            precisions: List of precision values at each threshold.\n",
        "            recalls: List of recall values at each threshold.\n",
        "            thresholds: Threshold values used for evaluation.\n",
        "    \"\"\"\n",
        "\n",
        "    # Generate thresholds from min to max of scores\n",
        "    min_score = min(y_scores)\n",
        "    max_score = max(y_scores)\n",
        "    thresholds = np.linspace(min_score, max_score, threshold_count)\n",
        "\n",
        "    precisions = []\n",
        "    recalls = []\n",
        "\n",
        "    for threshold in thresholds:\n",
        "        # Apply threshold to get binary predictions\n",
        "        y_pred_binary = (y_scores >= threshold).astype(int)\n",
        "\n",
        "        # Calculate precision and recall using the _PR function\n",
        "        precision, recall = _PR(y_true, y_pred_binary)\n",
        "\n",
        "        precisions.append(precision)\n",
        "        recalls.append(recall)\n",
        "\n",
        "    return np.array(precisions), np.array(recalls), thresholds\n",
        "\n",
        "# Calculate PR curves for each model\n",
        "# My Model\n",
        "precisions, recalls, thresholds = calculate_pr_curve(y_test, y_prob)\n",
        "\n",
        "# Model 1\n",
        "precisions1, recalls1, thresholds1 = calculate_pr_curve(y1_test, y1_prob)\n",
        "\n",
        "# Model 2\n",
        "precisions2, recalls2, thresholds2 = calculate_pr_curve(y2_test, y2_prob)\n",
        "\n",
        "# Model 3\n",
        "precisions3, recalls3, thresholds3 = calculate_pr_curve(y3_test, y3_prob)\n",
        "\n",
        "# Find optimal thresholds (where precision = recall)\n",
        "def find_optimal_threshold(precisions, recalls, thresholds):\n",
        "    \"\"\"\n",
        "    Identifies the threshold where precision and recall are closest to each other,\n",
        "    often used as a balanced trade-off point for classification.\n",
        "\n",
        "    Args:\n",
        "        precisions: Precision values corresponding to each threshold.\n",
        "        recalls: Recall values corresponding to each threshold.\n",
        "        thresholds: Threshold values evaluated.\n",
        "\n",
        "    Returns:\n",
        "        tuple:\n",
        "            optimal_threshold: Threshold where the absolute difference between precision and recall is minimized.\n",
        "            optimal_precision: Precision value at the optimal threshold.\n",
        "            optimal_recall: Recall value at the optimal threshold.\n",
        "    \"\"\"\n",
        "    differences = np.abs(np.array(precisions) - np.array(recalls))\n",
        "    optimal_idx = np.argmin(differences)\n",
        "    return thresholds[optimal_idx], precisions[optimal_idx], recalls[optimal_idx]\n",
        "\n",
        "optimal_thresh, optimal_prec, optimal_rec = find_optimal_threshold(precisions, recalls, thresholds)\n",
        "optimal_thresh1, optimal_prec1, optimal_rec1 = find_optimal_threshold(precisions1, recalls1, thresholds1)\n",
        "optimal_thresh2, optimal_prec2, optimal_rec2 = find_optimal_threshold(precisions2, recalls2, thresholds2)\n",
        "optimal_thresh3, optimal_prec3, optimal_rec3 = find_optimal_threshold(precisions3, recalls3, thresholds3)"
      ],
      "metadata": {
        "id": "1bxztlyL8u2r"
      },
      "execution_count": 10,
      "outputs": []
    },
    {
      "cell_type": "markdown",
      "source": [
        "4.3 Precision-Recall Curves Visualisation"
      ],
      "metadata": {
        "id": "cHl7aQYb1Ml3"
      }
    },
    {
      "cell_type": "code",
      "source": [
        "# Use Plotly pastel palette\n",
        "pastel_colors = px.colors.qualitative.Pastel\n",
        "\n",
        "fig = go.Figure()\n",
        "\n",
        "# PR curves\n",
        "fig.add_trace(go.Scatter(x=recalls, y=precisions, mode='lines',\n",
        "                         name='My Model: Logistic Regression (Selected Features)',\n",
        "                         line=dict(color=pastel_colors[0])))\n",
        "fig.add_trace(go.Scatter(x=recalls1, y=precisions1, mode='lines',\n",
        "                         name='Model 1: Linear Regression (games_played)',\n",
        "                         line=dict(color=pastel_colors[1])))\n",
        "fig.add_trace(go.Scatter(x=recalls2, y=precisions2, mode='lines',\n",
        "                         name='Model 2: Logistic Regression (All Features)',\n",
        "                         line=dict(color=pastel_colors[2])))\n",
        "fig.add_trace(go.Scatter(x=recalls3, y=precisions3, mode='lines',\n",
        "                         name='Model 3: Random Forest (Selected Features)',\n",
        "                         line=dict(color=pastel_colors[3])))\n",
        "\n",
        "# Star markers for optimal thresholds\n",
        "fig.add_trace(go.Scatter(x=[optimal_rec], y=[optimal_prec], mode='markers',\n",
        "                         marker=dict(symbol='star', size=12, color=pastel_colors[0]),\n",
        "                         name=f'My Model optimal (t={optimal_thresh:.2f})'))\n",
        "fig.add_trace(go.Scatter(x=[optimal_rec1], y=[optimal_prec1], mode='markers',\n",
        "                         marker=dict(symbol='star', size=12, color=pastel_colors[1]),\n",
        "                         name=f'Model 1 optimal (t={optimal_thresh1:.2f})'))\n",
        "fig.add_trace(go.Scatter(x=[optimal_rec2], y=[optimal_prec2], mode='markers',\n",
        "                         marker=dict(symbol='star', size=12, color=pastel_colors[2]),\n",
        "                         name=f'Model 2 optimal (t={optimal_thresh2:.2f})'))\n",
        "fig.add_trace(go.Scatter(x=[optimal_rec3], y=[optimal_prec3], mode='markers',\n",
        "                         marker=dict(symbol='star', size=12, color=pastel_colors[3]),\n",
        "                         name=f'Model 3 optimal (t={optimal_thresh3:.2f})'))\n",
        "\n",
        "# Layout matching bar chart\n",
        "fig.update_layout(\n",
        "    template='plotly_white',\n",
        "    title=\"Precision-Recall Curves with Optimal Thresholds\",\n",
        "    title_font=dict(size=18, color='#333'),\n",
        "    font=dict(family=\"Arial\", size=14, color='#4F4F4F'),\n",
        "    xaxis=dict(title=\"Recall\", titlefont=dict(size=16, color='#4F4F4F'), tickfont=dict(size=14, color='#666')),\n",
        "    yaxis=dict(title=\"Precision\", titlefont=dict(size=16, color='#4F4F4F'), tickfont=dict(size=14, color='#666'), range=[0, 1], showgrid=True),\n",
        "    width=1000,\n",
        "    height=500,\n",
        "    margin=dict(t=60, b=60)\n",
        ")\n",
        "\n",
        "fig.show()"
      ],
      "metadata": {
        "colab": {
          "base_uri": "https://localhost:8080/",
          "height": 517
        },
        "id": "TxuhzTAIFNSL",
        "outputId": "6a92217c-54e9-4496-cf51-f7ae43aea311"
      },
      "execution_count": 11,
      "outputs": [
        {
          "output_type": "display_data",
          "data": {
            "text/html": [
              "<html>\n",
              "<head><meta charset=\"utf-8\" /></head>\n",
              "<body>\n",
              "    <div>            <script src=\"https://cdnjs.cloudflare.com/ajax/libs/mathjax/2.7.5/MathJax.js?config=TeX-AMS-MML_SVG\"></script><script type=\"text/javascript\">if (window.MathJax && window.MathJax.Hub && window.MathJax.Hub.Config) {window.MathJax.Hub.Config({SVG: {font: \"STIX-Web\"}});}</script>                <script type=\"text/javascript\">window.PlotlyConfig = {MathJaxConfig: 'local'};</script>\n",
              "        <script charset=\"utf-8\" src=\"https://cdn.plot.ly/plotly-2.35.2.min.js\"></script>                <div id=\"5a59c0f0-fb20-4b13-9a47-5186af91b14a\" class=\"plotly-graph-div\" style=\"height:500px; width:1000px;\"></div>            <script type=\"text/javascript\">                                    window.PLOTLYENV=window.PLOTLYENV || {};                                    if (document.getElementById(\"5a59c0f0-fb20-4b13-9a47-5186af91b14a\")) {                    Plotly.newPlot(                        \"5a59c0f0-fb20-4b13-9a47-5186af91b14a\",                        [{\"line\":{\"color\":\"rgb(102, 197, 204)\"},\"mode\":\"lines\",\"name\":\"My Model: Logistic Regression (Selected Features)\",\"x\":[1.0,1.0,1.0,1.0,1.0,1.0,0.9968652037617555,0.9968652037617555,0.9968652037617555,0.9937304075235109,0.9937304075235109,0.9905956112852664,0.987460815047022,0.9843260188087775,0.9843260188087775,0.9843260188087775,0.9843260188087775,0.9749216300940439,0.9717868338557993,0.9686520376175548,0.9623824451410659,0.9623824451410659,0.9592476489028213,0.9561128526645768,0.9561128526645768,0.9498432601880877,0.9373040752351097,0.9310344827586207,0.9153605015673981,0.9090909090909091,0.896551724137931,0.8934169278996865,0.8840125391849529,0.877742946708464,0.8714733542319749,0.8620689655172413,0.8557993730407524,0.8432601880877743,0.8307210031347962,0.8213166144200627,0.8181818181818182,0.8025078369905956,0.786833855799373,0.7774294670846394,0.774294670846395,0.7617554858934169,0.7523510971786834,0.7335423197492164,0.7304075235109718,0.7241379310344828,0.6959247648902821,0.6865203761755486,0.6833855799373041,0.670846394984326,0.6614420062695925,0.6394984326018809,0.6300940438871473,0.6112852664576802,0.5956112852664577,0.5799373040752351,0.5579937304075235,0.5329153605015674,0.5109717868338558,0.4952978056426332,0.47335423197492166,0.46394984326018807,0.45141065830721006,0.43573667711598746,0.4200626959247649,0.4012539184952978,0.3667711598746082,0.3385579937304075,0.3322884012539185,0.31347962382445144,0.29153605015673983,0.2727272727272727,0.2601880877742947,0.2476489028213166,0.23824451410658307,0.219435736677116,0.20376175548589343,0.18808777429467086,0.1786833855799373,0.15987460815047022,0.14106583072100312,0.12539184952978055,0.10658307210031348,0.09404388714733543,0.09404388714733543,0.09090909090909091,0.08150470219435736,0.06583072100313479,0.05642633228840126,0.047021943573667714,0.04075235109717868,0.02821316614420063,0.018808777429467086,0.009404388714733543,0.006269592476489028,0.003134796238244514],\"y\":[0.5962616822429907,0.5973782771535581,0.5973782771535581,0.5973782771535581,0.5973782771535581,0.599624060150376,0.5988700564971752,0.6,0.6011342155009451,0.6015180265654649,0.6026615969581749,0.6030534351145038,0.6046065259117083,0.6085271317829457,0.6120857699805068,0.615686274509804,0.6242544731610338,0.6244979919678715,0.6300813008130082,0.6331967213114754,0.6316872427983539,0.6369294605809128,0.6415094339622641,0.6421052631578947,0.6448202959830867,0.6460554371002132,0.6457883369330454,0.6541850220264317,0.6561797752808989,0.6590909090909091,0.6635730858468677,0.6705882352941176,0.6778846153846154,0.6829268292682927,0.6881188118811881,0.6892230576441103,0.6911392405063291,0.6932989690721649,0.6955380577427821,0.7005347593582888,0.7016129032258065,0.7091412742382271,0.7150997150997151,0.7146974063400576,0.7222222222222222,0.7341389728096677,0.7384615384615385,0.7452229299363057,0.7467948717948718,0.7549019607843137,0.7551020408163265,0.7525773195876289,0.7649122807017544,0.7725631768953068,0.7757352941176471,0.7846153846153846,0.7976190476190477,0.8057851239669421,0.8154506437768241,0.8185840707964602,0.8202764976958525,0.821256038647343,0.8190954773869347,0.8359788359788359,0.8296703296703297,0.8361581920903954,0.8372093023255814,0.8424242424242424,0.8589743589743589,0.8648648648648649,0.8666666666666667,0.8571428571428571,0.8617886178861789,0.8620689655172413,0.8611111111111112,0.8529411764705882,0.8556701030927835,0.8586956521739131,0.8837209302325582,0.875,0.8666666666666667,0.8955223880597015,0.890625,0.8947368421052632,0.8823529411764706,0.9302325581395349,0.918918918918919,0.9375,0.9375,0.9666666666666667,0.9629629629629629,0.9545454545454546,1.0,1.0,1.0,1.0,1.0,1.0,1.0,1.0],\"type\":\"scatter\"},{\"line\":{\"color\":\"rgb(246, 207, 113)\"},\"mode\":\"lines\",\"name\":\"Model 1: Linear Regression (games_played)\",\"x\":[1.0,1.0,1.0,1.0,1.0,1.0,1.0,1.0,1.0,1.0,1.0,1.0,1.0,1.0,1.0,1.0,0.9968652037617555,0.9968652037617555,0.9968652037617555,0.9968652037617555,0.9968652037617555,0.9937304075235109,0.9937304075235109,0.9937304075235109,0.9905956112852664,0.9780564263322884,0.9780564263322884,0.9780564263322884,0.9780564263322884,0.9780564263322884,0.9780564263322884,0.9780564263322884,0.9780564263322884,0.9780564263322884,0.9749216300940439,0.9686520376175548,0.9655172413793104,0.9655172413793104,0.9592476489028213,0.9467084639498433,0.9404388714733543,0.9404388714733543,0.9341692789968652,0.9122257053291536,0.9122257053291536,0.8996865203761756,0.890282131661442,0.8746081504702194,0.8746081504702194,0.8589341692789969,0.8432601880877743,0.8338557993730408,0.8338557993730408,0.8181818181818182,0.8025078369905956,0.8025078369905956,0.786833855799373,0.774294670846395,0.7711598746081505,0.7711598746081505,0.7492163009404389,0.7304075235109718,0.7147335423197492,0.7147335423197492,0.6959247648902821,0.6865203761755486,0.6865203761755486,0.670846394984326,0.6489028213166145,0.6300940438871473,0.6300940438871473,0.6144200626959248,0.6050156739811913,0.5799373040752351,0.5799373040752351,0.5642633228840125,0.5454545454545454,0.5454545454545454,0.5235109717868338,0.5141065830721003,0.4890282131661442,0.4890282131661442,0.4827586206896552,0.4702194357366771,0.438871473354232,0.438871473354232,0.4231974921630094,0.4106583072100313,0.4106583072100313,0.38557993730407525,0.3510971786833856,0.3322884012539185,0.3322884012539185,0.2946708463949843,0.26332288401253917,0.18495297805642633,0.18495297805642633,0.12852664576802508,0.003134796238244514,0.003134796238244514],\"y\":[0.5962616822429907,0.5973782771535581,0.5973782771535581,0.5973782771535581,0.5973782771535581,0.5984990619136961,0.5984990619136961,0.5984990619136961,0.5984990619136961,0.5984990619136961,0.5984990619136961,0.5984990619136961,0.599624060150376,0.599624060150376,0.599624060150376,0.599624060150376,0.6,0.6011342155009451,0.6045627376425855,0.6045627376425855,0.6057142857142858,0.6061185468451242,0.6061185468451242,0.60727969348659,0.6065259117082533,0.6046511627906976,0.6046511627906976,0.6046511627906976,0.6070038910505836,0.6081871345029239,0.6081871345029239,0.6129666011787819,0.6178217821782178,0.6178217821782178,0.6207584830339321,0.6229838709677419,0.6324435318275154,0.6324435318275154,0.6361746361746362,0.6371308016877637,0.6382978723404256,0.6382978723404256,0.6408602150537634,0.6409691629955947,0.6409691629955947,0.6463963963963963,0.6484018264840182,0.6518691588785047,0.6518691588785047,0.6492890995260664,0.6513317191283293,0.6584158415841584,0.6584158415841584,0.6624365482233503,0.6649350649350649,0.6649350649350649,0.6711229946524064,0.6767123287671233,0.6852367688022284,0.6852367688022284,0.6907514450867052,0.6955223880597015,0.6951219512195121,0.6951219512195121,0.6981132075471698,0.697452229299363,0.697452229299363,0.7039473684210527,0.6993243243243243,0.7077464788732394,0.7077464788732394,0.7101449275362319,0.7174721189591078,0.74,0.74,0.7468879668049793,0.7565217391304347,0.7565217391304347,0.759090909090909,0.7663551401869159,0.7609756097560976,0.7609756097560976,0.7661691542288557,0.7772020725388601,0.7909604519774012,0.7909604519774012,0.8083832335329342,0.8136645962732919,0.8136645962732919,0.82,0.8175182481751825,0.8548387096774194,0.8548387096774194,0.8392857142857143,0.865979381443299,0.855072463768116,0.855072463768116,0.9318181818181818,1.0,1.0],\"type\":\"scatter\"},{\"line\":{\"color\":\"rgb(248, 156, 116)\"},\"mode\":\"lines\",\"name\":\"Model 2: Logistic Regression (All Features)\",\"x\":[1.0,1.0,1.0,1.0,1.0,1.0,0.9968652037617555,0.9968652037617555,0.9968652037617555,0.9937304075235109,0.9937304075235109,0.9905956112852664,0.9905956112852664,0.9905956112852664,0.9905956112852664,0.987460815047022,0.987460815047022,0.9843260188087775,0.9811912225705329,0.9749216300940439,0.9717868338557993,0.9655172413793104,0.9592476489028213,0.9529780564263323,0.9467084639498433,0.9404388714733543,0.9341692789968652,0.9278996865203761,0.9153605015673981,0.9122257053291536,0.9028213166144201,0.8996865203761756,0.896551724137931,0.896551724137931,0.8808777429467085,0.8652037617554859,0.8652037617554859,0.8652037617554859,0.8620689655172413,0.8432601880877743,0.8275862068965517,0.8119122257053292,0.8025078369905956,0.7962382445141066,0.786833855799373,0.7711598746081505,0.768025078369906,0.7554858934169278,0.7460815047021944,0.7304075235109718,0.7115987460815048,0.6959247648902821,0.6896551724137931,0.677115987460815,0.6677115987460815,0.6520376175548589,0.6300940438871473,0.6206896551724138,0.6112852664576802,0.5987460815047022,0.5830721003134797,0.5642633228840125,0.554858934169279,0.5391849529780565,0.5203761755485894,0.5109717868338558,0.49216300940438873,0.47335423197492166,0.45768025078369906,0.43573667711598746,0.4106583072100313,0.3887147335423197,0.3573667711598746,0.3510971786833856,0.322884012539185,0.3103448275862069,0.29153605015673983,0.2852664576802508,0.26332288401253917,0.25391849529780564,0.23824451410658307,0.219435736677116,0.20689655172413793,0.18808777429467086,0.16614420062695925,0.15673981191222572,0.14106583072100312,0.13166144200626959,0.11598746081504702,0.10031347962382445,0.09404388714733543,0.08463949843260188,0.08150470219435736,0.07210031347962383,0.05956112852664577,0.050156739811912224,0.03134796238244514,0.025078369905956112,0.01567398119122257,0.003134796238244514],\"y\":[0.5962616822429907,0.5973782771535581,0.5973782771535581,0.5973782771535581,0.5973782771535581,0.5984990619136961,0.5988700564971752,0.6,0.6011342155009451,0.6003787878787878,0.6026615969581749,0.6065259117082533,0.6065259117082533,0.6076923076923076,0.6112185686653772,0.6164383561643836,0.618860510805501,0.6217821782178218,0.6235059760956175,0.6257545271629779,0.6288032454361054,0.6337448559670782,0.6375,0.64,0.6411889596602972,0.6437768240343348,0.645021645021645,0.6519823788546255,0.6532438478747203,0.6583710407239819,0.6605504587155964,0.668997668997669,0.6713615023474179,0.6793349168646081,0.6820388349514563,0.684863523573201,0.6865671641791045,0.6952141057934509,0.701530612244898,0.7005208333333334,0.7002652519893899,0.7076502732240437,0.7111111111111111,0.7319884726224783,0.7339181286549707,0.7409638554216867,0.7446808510638298,0.7484472049689441,0.750788643533123,0.7540453074433657,0.7541528239202658,0.7628865979381443,0.7692307692307693,0.7714285714285715,0.7773722627737226,0.7819548872180451,0.7913385826771654,0.7983870967741935,0.8024691358024691,0.8127659574468085,0.8230088495575221,0.821917808219178,0.8309859154929577,0.8309178743961353,0.8383838383838383,0.8358974358974359,0.839572192513369,0.8579545454545454,0.8588235294117647,0.8580246913580247,0.8791946308724832,0.8732394366197183,0.8769230769230769,0.875,0.8728813559322034,0.8839285714285714,0.8773584905660378,0.875,0.8842105263157894,0.9101123595505618,0.9156626506024096,0.9090909090909091,0.9041095890410958,0.8955223880597015,0.8983050847457628,0.9259259259259259,0.9375,0.9545454545454546,0.9487179487179487,0.9411764705882353,0.9375,0.9642857142857143,0.9629629629629629,0.9583333333333334,1.0,1.0,1.0,1.0,1.0,1.0],\"type\":\"scatter\"},{\"line\":{\"color\":\"rgb(220, 176, 242)\"},\"mode\":\"lines\",\"name\":\"Model 3: Random Forest (Selected Features)\",\"x\":[1.0,1.0,1.0,1.0,1.0,1.0,1.0,1.0,0.9968652037617555,0.9968652037617555,0.9905956112852664,0.9811912225705329,0.9749216300940439,0.9749216300940439,0.9655172413793104,0.9655172413793104,0.9592476489028213,0.9561128526645768,0.9498432601880877,0.9404388714733543,0.9341692789968652,0.9247648902821317,0.9184952978056427,0.9153605015673981,0.9028213166144201,0.8996865203761756,0.896551724137931,0.8871473354231975,0.8840125391849529,0.8840125391849529,0.8808777429467085,0.8683385579937304,0.8683385579937304,0.8557993730407524,0.8463949843260188,0.8401253918495298,0.8338557993730408,0.8275862068965517,0.8150470219435737,0.799373040752351,0.7931034482758621,0.7836990595611285,0.7774294670846394,0.774294670846395,0.7617554858934169,0.7398119122257053,0.7210031347962382,0.7178683385579937,0.7053291536050157,0.6896551724137931,0.6896551724137931,0.6802507836990596,0.6739811912225705,0.6551724137931034,0.6363636363636364,0.6332288401253918,0.6238244514106583,0.6206896551724138,0.6112852664576802,0.6081504702194357,0.6018808777429467,0.5924764890282131,0.5830721003134797,0.5736677115987461,0.5705329153605015,0.5579937304075235,0.5454545454545454,0.5454545454545454,0.5109717868338558,0.5015673981191222,0.48589341692789967,0.47648902821316613,0.4670846394984326,0.45768025078369906,0.445141065830721,0.438871473354232,0.42946708463949845,0.4231974921630094,0.4200626959247649,0.3981191222570533,0.3793103448275862,0.3667711598746082,0.3510971786833856,0.3385579937304075,0.32601880877742945,0.30407523510971785,0.2946708463949843,0.2727272727272727,0.25705329153605017,0.23510971786833856,0.21316614420062696,0.1974921630094044,0.16927899686520376,0.16614420062695925,0.13793103448275862,0.11912225705329153,0.09090909090909091,0.06583072100313479,0.04075235109717868,0.03134796238244514],\"y\":[0.5962616822429907,0.5973782771535581,0.5973782771535581,0.5973782771535581,0.5973782771535581,0.5984990619136961,0.60075329566855,0.6030245746691871,0.603415559772296,0.6045627376425855,0.6076923076923076,0.6054158607350096,0.6062378167641326,0.6098039215686275,0.6099009900990099,0.6111111111111112,0.6132264529058116,0.6211812627291242,0.6209016393442623,0.6224066390041494,0.6247379454926625,0.6276595744680851,0.6260683760683761,0.6279569892473118,0.6301969365426696,0.6349557522123894,0.6383928571428571,0.6417233560090703,0.6453089244851259,0.6558139534883721,0.655011655011655,0.6579572446555819,0.6610978520286396,0.6594202898550725,0.6633906633906634,0.6617283950617284,0.6633416458852868,0.6666666666666666,0.6666666666666666,0.6640625,0.662303664921466,0.6720430107526881,0.6775956284153005,0.6804407713498623,0.6903409090909091,0.6941176470588235,0.696969696969697,0.7046153846153846,0.703125,0.7028753993610224,0.707395498392283,0.7091503267973857,0.7095709570957096,0.7037037037037037,0.7024221453287197,0.7062937062937062,0.7056737588652482,0.7096774193548387,0.7090909090909091,0.7132352941176471,0.7191011235955056,0.7213740458015268,0.7294117647058823,0.7261904761904762,0.7338709677419355,0.7325102880658436,0.7372881355932204,0.7435897435897436,0.7342342342342343,0.7339449541284404,0.7345971563981043,0.7450980392156863,0.7487437185929648,0.7525773195876289,0.7593582887700535,0.7608695652173914,0.7569060773480663,0.7541899441340782,0.7613636363636364,0.774390243902439,0.7806451612903226,0.7748344370860927,0.7832167832167832,0.782608695652174,0.7878787878787878,0.7886178861788617,0.8034188034188035,0.8207547169811321,0.8541666666666666,0.8426966292134831,0.8607594936708861,0.8513513513513513,0.8571428571428571,0.8833333333333333,0.88,0.8837209302325582,0.8529411764705882,0.875,0.9285714285714286,0.9090909090909091],\"type\":\"scatter\"},{\"marker\":{\"color\":\"rgb(102, 197, 204)\",\"size\":12,\"symbol\":\"star\"},\"mode\":\"markers\",\"name\":\"My Model optimal (t=0.55)\",\"x\":[0.7335423197492164],\"y\":[0.7452229299363057],\"type\":\"scatter\"},{\"marker\":{\"color\":\"rgb(246, 207, 113)\",\"size\":12,\"symbol\":\"star\"},\"mode\":\"markers\",\"name\":\"Model 1 optimal (t=0.56)\",\"x\":[0.6959247648902821],\"y\":[0.6981132075471698],\"type\":\"scatter\"},{\"marker\":{\"color\":\"rgb(248, 156, 116)\",\"size\":12,\"symbol\":\"star\"},\"mode\":\"markers\",\"name\":\"Model 2 optimal (t=0.55)\",\"x\":[0.7460815047021944],\"y\":[0.750788643533123],\"type\":\"scatter\"},{\"marker\":{\"color\":\"rgb(220, 176, 242)\",\"size\":12,\"symbol\":\"star\"},\"mode\":\"markers\",\"name\":\"Model 3 optimal (t=0.49)\",\"x\":[0.7053291536050157],\"y\":[0.703125],\"type\":\"scatter\"}],                        {\"template\":{\"data\":{\"barpolar\":[{\"marker\":{\"line\":{\"color\":\"white\",\"width\":0.5},\"pattern\":{\"fillmode\":\"overlay\",\"size\":10,\"solidity\":0.2}},\"type\":\"barpolar\"}],\"bar\":[{\"error_x\":{\"color\":\"#2a3f5f\"},\"error_y\":{\"color\":\"#2a3f5f\"},\"marker\":{\"line\":{\"color\":\"white\",\"width\":0.5},\"pattern\":{\"fillmode\":\"overlay\",\"size\":10,\"solidity\":0.2}},\"type\":\"bar\"}],\"carpet\":[{\"aaxis\":{\"endlinecolor\":\"#2a3f5f\",\"gridcolor\":\"#C8D4E3\",\"linecolor\":\"#C8D4E3\",\"minorgridcolor\":\"#C8D4E3\",\"startlinecolor\":\"#2a3f5f\"},\"baxis\":{\"endlinecolor\":\"#2a3f5f\",\"gridcolor\":\"#C8D4E3\",\"linecolor\":\"#C8D4E3\",\"minorgridcolor\":\"#C8D4E3\",\"startlinecolor\":\"#2a3f5f\"},\"type\":\"carpet\"}],\"choropleth\":[{\"colorbar\":{\"outlinewidth\":0,\"ticks\":\"\"},\"type\":\"choropleth\"}],\"contourcarpet\":[{\"colorbar\":{\"outlinewidth\":0,\"ticks\":\"\"},\"type\":\"contourcarpet\"}],\"contour\":[{\"colorbar\":{\"outlinewidth\":0,\"ticks\":\"\"},\"colorscale\":[[0.0,\"#0d0887\"],[0.1111111111111111,\"#46039f\"],[0.2222222222222222,\"#7201a8\"],[0.3333333333333333,\"#9c179e\"],[0.4444444444444444,\"#bd3786\"],[0.5555555555555556,\"#d8576b\"],[0.6666666666666666,\"#ed7953\"],[0.7777777777777778,\"#fb9f3a\"],[0.8888888888888888,\"#fdca26\"],[1.0,\"#f0f921\"]],\"type\":\"contour\"}],\"heatmapgl\":[{\"colorbar\":{\"outlinewidth\":0,\"ticks\":\"\"},\"colorscale\":[[0.0,\"#0d0887\"],[0.1111111111111111,\"#46039f\"],[0.2222222222222222,\"#7201a8\"],[0.3333333333333333,\"#9c179e\"],[0.4444444444444444,\"#bd3786\"],[0.5555555555555556,\"#d8576b\"],[0.6666666666666666,\"#ed7953\"],[0.7777777777777778,\"#fb9f3a\"],[0.8888888888888888,\"#fdca26\"],[1.0,\"#f0f921\"]],\"type\":\"heatmapgl\"}],\"heatmap\":[{\"colorbar\":{\"outlinewidth\":0,\"ticks\":\"\"},\"colorscale\":[[0.0,\"#0d0887\"],[0.1111111111111111,\"#46039f\"],[0.2222222222222222,\"#7201a8\"],[0.3333333333333333,\"#9c179e\"],[0.4444444444444444,\"#bd3786\"],[0.5555555555555556,\"#d8576b\"],[0.6666666666666666,\"#ed7953\"],[0.7777777777777778,\"#fb9f3a\"],[0.8888888888888888,\"#fdca26\"],[1.0,\"#f0f921\"]],\"type\":\"heatmap\"}],\"histogram2dcontour\":[{\"colorbar\":{\"outlinewidth\":0,\"ticks\":\"\"},\"colorscale\":[[0.0,\"#0d0887\"],[0.1111111111111111,\"#46039f\"],[0.2222222222222222,\"#7201a8\"],[0.3333333333333333,\"#9c179e\"],[0.4444444444444444,\"#bd3786\"],[0.5555555555555556,\"#d8576b\"],[0.6666666666666666,\"#ed7953\"],[0.7777777777777778,\"#fb9f3a\"],[0.8888888888888888,\"#fdca26\"],[1.0,\"#f0f921\"]],\"type\":\"histogram2dcontour\"}],\"histogram2d\":[{\"colorbar\":{\"outlinewidth\":0,\"ticks\":\"\"},\"colorscale\":[[0.0,\"#0d0887\"],[0.1111111111111111,\"#46039f\"],[0.2222222222222222,\"#7201a8\"],[0.3333333333333333,\"#9c179e\"],[0.4444444444444444,\"#bd3786\"],[0.5555555555555556,\"#d8576b\"],[0.6666666666666666,\"#ed7953\"],[0.7777777777777778,\"#fb9f3a\"],[0.8888888888888888,\"#fdca26\"],[1.0,\"#f0f921\"]],\"type\":\"histogram2d\"}],\"histogram\":[{\"marker\":{\"pattern\":{\"fillmode\":\"overlay\",\"size\":10,\"solidity\":0.2}},\"type\":\"histogram\"}],\"mesh3d\":[{\"colorbar\":{\"outlinewidth\":0,\"ticks\":\"\"},\"type\":\"mesh3d\"}],\"parcoords\":[{\"line\":{\"colorbar\":{\"outlinewidth\":0,\"ticks\":\"\"}},\"type\":\"parcoords\"}],\"pie\":[{\"automargin\":true,\"type\":\"pie\"}],\"scatter3d\":[{\"line\":{\"colorbar\":{\"outlinewidth\":0,\"ticks\":\"\"}},\"marker\":{\"colorbar\":{\"outlinewidth\":0,\"ticks\":\"\"}},\"type\":\"scatter3d\"}],\"scattercarpet\":[{\"marker\":{\"colorbar\":{\"outlinewidth\":0,\"ticks\":\"\"}},\"type\":\"scattercarpet\"}],\"scattergeo\":[{\"marker\":{\"colorbar\":{\"outlinewidth\":0,\"ticks\":\"\"}},\"type\":\"scattergeo\"}],\"scattergl\":[{\"marker\":{\"colorbar\":{\"outlinewidth\":0,\"ticks\":\"\"}},\"type\":\"scattergl\"}],\"scattermapbox\":[{\"marker\":{\"colorbar\":{\"outlinewidth\":0,\"ticks\":\"\"}},\"type\":\"scattermapbox\"}],\"scatterpolargl\":[{\"marker\":{\"colorbar\":{\"outlinewidth\":0,\"ticks\":\"\"}},\"type\":\"scatterpolargl\"}],\"scatterpolar\":[{\"marker\":{\"colorbar\":{\"outlinewidth\":0,\"ticks\":\"\"}},\"type\":\"scatterpolar\"}],\"scatter\":[{\"fillpattern\":{\"fillmode\":\"overlay\",\"size\":10,\"solidity\":0.2},\"type\":\"scatter\"}],\"scatterternary\":[{\"marker\":{\"colorbar\":{\"outlinewidth\":0,\"ticks\":\"\"}},\"type\":\"scatterternary\"}],\"surface\":[{\"colorbar\":{\"outlinewidth\":0,\"ticks\":\"\"},\"colorscale\":[[0.0,\"#0d0887\"],[0.1111111111111111,\"#46039f\"],[0.2222222222222222,\"#7201a8\"],[0.3333333333333333,\"#9c179e\"],[0.4444444444444444,\"#bd3786\"],[0.5555555555555556,\"#d8576b\"],[0.6666666666666666,\"#ed7953\"],[0.7777777777777778,\"#fb9f3a\"],[0.8888888888888888,\"#fdca26\"],[1.0,\"#f0f921\"]],\"type\":\"surface\"}],\"table\":[{\"cells\":{\"fill\":{\"color\":\"#EBF0F8\"},\"line\":{\"color\":\"white\"}},\"header\":{\"fill\":{\"color\":\"#C8D4E3\"},\"line\":{\"color\":\"white\"}},\"type\":\"table\"}]},\"layout\":{\"annotationdefaults\":{\"arrowcolor\":\"#2a3f5f\",\"arrowhead\":0,\"arrowwidth\":1},\"autotypenumbers\":\"strict\",\"coloraxis\":{\"colorbar\":{\"outlinewidth\":0,\"ticks\":\"\"}},\"colorscale\":{\"diverging\":[[0,\"#8e0152\"],[0.1,\"#c51b7d\"],[0.2,\"#de77ae\"],[0.3,\"#f1b6da\"],[0.4,\"#fde0ef\"],[0.5,\"#f7f7f7\"],[0.6,\"#e6f5d0\"],[0.7,\"#b8e186\"],[0.8,\"#7fbc41\"],[0.9,\"#4d9221\"],[1,\"#276419\"]],\"sequential\":[[0.0,\"#0d0887\"],[0.1111111111111111,\"#46039f\"],[0.2222222222222222,\"#7201a8\"],[0.3333333333333333,\"#9c179e\"],[0.4444444444444444,\"#bd3786\"],[0.5555555555555556,\"#d8576b\"],[0.6666666666666666,\"#ed7953\"],[0.7777777777777778,\"#fb9f3a\"],[0.8888888888888888,\"#fdca26\"],[1.0,\"#f0f921\"]],\"sequentialminus\":[[0.0,\"#0d0887\"],[0.1111111111111111,\"#46039f\"],[0.2222222222222222,\"#7201a8\"],[0.3333333333333333,\"#9c179e\"],[0.4444444444444444,\"#bd3786\"],[0.5555555555555556,\"#d8576b\"],[0.6666666666666666,\"#ed7953\"],[0.7777777777777778,\"#fb9f3a\"],[0.8888888888888888,\"#fdca26\"],[1.0,\"#f0f921\"]]},\"colorway\":[\"#636efa\",\"#EF553B\",\"#00cc96\",\"#ab63fa\",\"#FFA15A\",\"#19d3f3\",\"#FF6692\",\"#B6E880\",\"#FF97FF\",\"#FECB52\"],\"font\":{\"color\":\"#2a3f5f\"},\"geo\":{\"bgcolor\":\"white\",\"lakecolor\":\"white\",\"landcolor\":\"white\",\"showlakes\":true,\"showland\":true,\"subunitcolor\":\"#C8D4E3\"},\"hoverlabel\":{\"align\":\"left\"},\"hovermode\":\"closest\",\"mapbox\":{\"style\":\"light\"},\"paper_bgcolor\":\"white\",\"plot_bgcolor\":\"white\",\"polar\":{\"angularaxis\":{\"gridcolor\":\"#EBF0F8\",\"linecolor\":\"#EBF0F8\",\"ticks\":\"\"},\"bgcolor\":\"white\",\"radialaxis\":{\"gridcolor\":\"#EBF0F8\",\"linecolor\":\"#EBF0F8\",\"ticks\":\"\"}},\"scene\":{\"xaxis\":{\"backgroundcolor\":\"white\",\"gridcolor\":\"#DFE8F3\",\"gridwidth\":2,\"linecolor\":\"#EBF0F8\",\"showbackground\":true,\"ticks\":\"\",\"zerolinecolor\":\"#EBF0F8\"},\"yaxis\":{\"backgroundcolor\":\"white\",\"gridcolor\":\"#DFE8F3\",\"gridwidth\":2,\"linecolor\":\"#EBF0F8\",\"showbackground\":true,\"ticks\":\"\",\"zerolinecolor\":\"#EBF0F8\"},\"zaxis\":{\"backgroundcolor\":\"white\",\"gridcolor\":\"#DFE8F3\",\"gridwidth\":2,\"linecolor\":\"#EBF0F8\",\"showbackground\":true,\"ticks\":\"\",\"zerolinecolor\":\"#EBF0F8\"}},\"shapedefaults\":{\"line\":{\"color\":\"#2a3f5f\"}},\"ternary\":{\"aaxis\":{\"gridcolor\":\"#DFE8F3\",\"linecolor\":\"#A2B1C6\",\"ticks\":\"\"},\"baxis\":{\"gridcolor\":\"#DFE8F3\",\"linecolor\":\"#A2B1C6\",\"ticks\":\"\"},\"bgcolor\":\"white\",\"caxis\":{\"gridcolor\":\"#DFE8F3\",\"linecolor\":\"#A2B1C6\",\"ticks\":\"\"}},\"title\":{\"x\":0.05},\"xaxis\":{\"automargin\":true,\"gridcolor\":\"#EBF0F8\",\"linecolor\":\"#EBF0F8\",\"ticks\":\"\",\"title\":{\"standoff\":15},\"zerolinecolor\":\"#EBF0F8\",\"zerolinewidth\":2},\"yaxis\":{\"automargin\":true,\"gridcolor\":\"#EBF0F8\",\"linecolor\":\"#EBF0F8\",\"ticks\":\"\",\"title\":{\"standoff\":15},\"zerolinecolor\":\"#EBF0F8\",\"zerolinewidth\":2}}},\"title\":{\"text\":\"Precision-Recall Curves with Optimal Thresholds\",\"font\":{\"size\":18,\"color\":\"#333\"}},\"font\":{\"family\":\"Arial\",\"size\":14,\"color\":\"#4F4F4F\"},\"xaxis\":{\"title\":{\"text\":\"Recall\",\"font\":{\"size\":16,\"color\":\"#4F4F4F\"}},\"tickfont\":{\"size\":14,\"color\":\"#666\"}},\"yaxis\":{\"title\":{\"text\":\"Precision\",\"font\":{\"size\":16,\"color\":\"#4F4F4F\"}},\"tickfont\":{\"size\":14,\"color\":\"#666\"},\"range\":[0,1],\"showgrid\":true},\"margin\":{\"t\":60,\"b\":60},\"width\":1000,\"height\":500},                        {\"responsive\": true}                    ).then(function(){\n",
              "                            \n",
              "var gd = document.getElementById('5a59c0f0-fb20-4b13-9a47-5186af91b14a');\n",
              "var x = new MutationObserver(function (mutations, observer) {{\n",
              "        var display = window.getComputedStyle(gd).display;\n",
              "        if (!display || display === 'none') {{\n",
              "            console.log([gd, 'removed!']);\n",
              "            Plotly.purge(gd);\n",
              "            observer.disconnect();\n",
              "        }}\n",
              "}});\n",
              "\n",
              "// Listen for the removal of the full notebook cells\n",
              "var notebookContainer = gd.closest('#notebook-container');\n",
              "if (notebookContainer) {{\n",
              "    x.observe(notebookContainer, {childList: true});\n",
              "}}\n",
              "\n",
              "// Listen for the clearing of the current output cell\n",
              "var outputEl = gd.closest('.output');\n",
              "if (outputEl) {{\n",
              "    x.observe(outputEl, {childList: true});\n",
              "}}\n",
              "\n",
              "                        })                };                            </script>        </div>\n",
              "</body>\n",
              "</html>"
            ]
          },
          "metadata": {}
        }
      ]
    },
    {
      "cell_type": "markdown",
      "source": [
        "### 5. Model Performance Comparison"
      ],
      "metadata": {
        "id": "JFAr-0R8ye0N"
      }
    },
    {
      "cell_type": "code",
      "source": [
        "# Create performance table\n",
        "model_names = [\n",
        "    'My Model: Logistic Regression (Selected Features)',\n",
        "    'Model 1: Linear Regression (games_played)',\n",
        "    'Model 2: Logistic Regression (All Features)',\n",
        "    'Model 3: Random Forest (Selected Features)'\n",
        "]\n",
        "\n",
        "# Apply optimal thresholds\n",
        "y_pred_opt = (y_prob >= optimal_thresh).astype(int)\n",
        "y1_pred_opt = (y1_prob >= optimal_thresh1).astype(int)\n",
        "y2_pred_opt = (y2_prob >= optimal_thresh2).astype(int)\n",
        "y3_pred_opt = (y3_prob >= optimal_thresh3).astype(int)\n",
        "\n",
        "# Calculate accuracy\n",
        "from sklearn.metrics import accuracy_score, roc_auc_score\n",
        "accuracy = accuracy_score(y_test, y_pred_opt) * 100\n",
        "accuracy1 = accuracy_score(y1_test, y1_pred_opt) * 100\n",
        "accuracy2 = accuracy_score(y2_test, y2_pred_opt) * 100\n",
        "accuracy3 = accuracy_score(y3_test, y3_pred_opt) * 100\n",
        "\n",
        "# Calculate AUC\n",
        "auc = roc_auc_score(y_test, y_prob)\n",
        "auc1 = roc_auc_score(y1_test, y1_prob)\n",
        "auc2 = roc_auc_score(y2_test, y2_prob)\n",
        "auc3 = roc_auc_score(y3_test, y3_prob)\n",
        "\n",
        "# Create comparison dataframe\n",
        "results_df = pd.DataFrame({\n",
        "    'Model': model_names,\n",
        "    'Accuracy (%)': [accuracy, accuracy1, accuracy2, accuracy3],\n",
        "    'AUC': [auc, auc1, auc2, auc3],\n",
        "    'Optimal Threshold': [optimal_thresh, optimal_thresh1, optimal_thresh2, optimal_thresh3]\n",
        "})\n",
        "\n",
        "print(results_df)"
      ],
      "metadata": {
        "colab": {
          "base_uri": "https://localhost:8080/"
        },
        "id": "KU3DAzX1A5D0",
        "outputId": "65f00d3d-3a71-4dde-b248-a818cb9a5133"
      },
      "execution_count": 12,
      "outputs": [
        {
          "output_type": "stream",
          "name": "stdout",
          "text": [
            "                                               Model  Accuracy (%)       AUC  \\\n",
            "0  My Model: Logistic Regression (Selected Features)     69.158879  0.750007   \n",
            "1          Model 1: Linear Regression (games_played)     63.925234  0.694778   \n",
            "2        Model 2: Logistic Regression (All Features)     70.093458  0.758940   \n",
            "3         Model 3: Random Forest (Selected Features)     64.672897  0.680345   \n",
            "\n",
            "   Optimal Threshold  \n",
            "0           0.546902  \n",
            "1           0.561487  \n",
            "2           0.549102  \n",
            "3           0.493864  \n"
          ]
        }
      ]
    }
  ]
}